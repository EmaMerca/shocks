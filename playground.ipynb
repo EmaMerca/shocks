{
 "cells": [
  {
   "cell_type": "code",
   "execution_count": 114,
   "outputs": [],
   "source": [
    "import pandas as pd\n",
    "from numpy.lib.stride_tricks import sliding_window_view\n",
    "import numpy as np\n",
    "from sklearn.ensemble import RandomForestClassifier\n",
    "from sklearn.model_selection import train_test_split\n",
    "from sklearn.metrics import classification_report\n",
    "\n",
    "import pickle\n",
    "with open('/home/ema/dev/shocks/data/processed/AVAXBTC_5m.pkl', 'rb') as f:\n",
    "    d = pickle.load(f)\n",
    "\n",
    "d[\"features\"]\n",
    "data = [el for el in d[\"features\"] if el[\"direction\"] != 0]\n",
    "non_shocks = [el for el in d[\"features\"] if el[\"direction\"] == 0]\n",
    "data.extend(non_shocks[:len(data)])\n",
    "\n",
    "binary = True\n",
    "if binary:\n",
    "    for el in data:\n",
    "         direction = el['direction']\n",
    "         el['direction'] = 1 if direction == -1 else direction\n",
    "\n",
    "df = pd.DataFrame.from_dict(data).dropna()\n",
    "cols = [col for col in df.columns if col != 'direction']\n",
    "labels = df['direction'].tolist()\n",
    "X_train, X_test, y_train, y_test = train_test_split(df[cols], labels, test_size=0.3, random_state=42, stratify=labels)"
   ],
   "metadata": {
    "collapsed": false,
    "pycharm": {
     "name": "#%%\n"
    }
   }
  },
  {
   "cell_type": "code",
   "execution_count": 115,
   "outputs": [
    {
     "name": "stdout",
     "output_type": "stream",
     "text": [
      "              precision    recall  f1-score   support\n",
      "\n",
      "           0       0.69      0.66      0.68       106\n",
      "           1       0.67      0.70      0.69       105\n",
      "\n",
      "    accuracy                           0.68       211\n",
      "   macro avg       0.68      0.68      0.68       211\n",
      "weighted avg       0.68      0.68      0.68       211\n",
      "\n"
     ]
    }
   ],
   "source": [
    "class_weights = {\n",
    "   #-1: (len([el for el in labels if el == -1]) / len(labels)),\n",
    "    0: (len([el for el in labels if el == 0]) / len(labels)),\n",
    "    1: (len([el for el in labels if el == 1]) / len(labels)),\n",
    "}\n",
    "\n",
    "model = RandomForestClassifier(class_weight=class_weights)\n",
    "model.fit(X_train, y_train)\n",
    "preds = model.predict(X_test)\n",
    "print(classification_report(y_test, preds, target_names=['0', '1']))"
   ],
   "metadata": {
    "collapsed": false,
    "pycharm": {
     "name": "#%%\n"
    }
   }
  },
  {
   "cell_type": "code",
   "execution_count": 113,
   "outputs": [
    {
     "name": "stdout",
     "output_type": "stream",
     "text": [
      "              precision    recall  f1-score   support\n",
      "\n",
      "           0       0.52      0.57      0.54       106\n",
      "           1       0.52      0.48      0.50       105\n",
      "\n",
      "    accuracy                           0.52       211\n",
      "   macro avg       0.52      0.52      0.52       211\n",
      "weighted avg       0.52      0.52      0.52       211\n",
      "\n"
     ]
    }
   ],
   "source": [
    "from sklearn.dummy import DummyClassifier\n",
    "\n",
    "model = DummyClassifier(strategy=\"uniform\")\n",
    "model.fit(X_train, y_train)\n",
    "preds = model.predict(X_test)\n",
    "print(classification_report(y_test, preds, target_names=['0', '1']))"
   ],
   "metadata": {
    "collapsed": false,
    "pycharm": {
     "name": "#%%\n"
    }
   }
  },
  {
   "cell_type": "code",
   "execution_count": 33,
   "outputs": [],
   "source": [
    "import pystable\n",
    "\n",
    "data = d[\"data\"][[\"close\"]].iloc[: 500]\n",
    "np_data = np.array(data[\"close\"].tolist())\n",
    "\n",
    "\n",
    "init_fit = {\"alpha\": 2, \"beta\": 0, \"sigma\": 1, \"mu\": 0, \"parameterization\": 1}\n",
    "dist = pystable.create(\n",
    "    init_fit[\"alpha\"],\n",
    "    init_fit[\"beta\"],\n",
    "    init_fit[\"sigma\"],\n",
    "    init_fit[\"mu\"],\n",
    "    init_fit[\"parameterization\"],\n",
    ")\n",
    "\n",
    "def fit(data, dist):\n",
    "    for param in \"alpha beta\".split():\n",
    "        data[param] = (\n",
    "            data[\"close\"]\n",
    "            .rolling(250)\n",
    "            .apply(lambda x: fit_levy(dist, x, param))\n",
    "        )\n",
    "    return data\n",
    "\n",
    "\n",
    "def fit_levy(dist, log_returns, return_param):\n",
    "    pystable.fit(dist, log_returns, len(log_returns))\n",
    "    return getattr(dist.contents, return_param)\n"
   ],
   "metadata": {
    "collapsed": false,
    "pycharm": {
     "name": "#%%\n"
    }
   }
  },
  {
   "cell_type": "code",
   "execution_count": 34,
   "outputs": [
    {
     "name": "stdout",
     "output_type": "stream",
     "text": [
      "CPU times: user 23.6 s, sys: 384 ms, total: 23.9 s\n",
      "Wall time: 15.4 s\n"
     ]
    }
   ],
   "source": [
    "%%time\n",
    "fitted = fit(data, dist)"
   ],
   "metadata": {
    "collapsed": false,
    "pycharm": {
     "name": "#%%\n"
    }
   }
  },
  {
   "cell_type": "code",
   "execution_count": 19,
   "outputs": [
    {
     "data": {
      "text/plain": "array([[0.0010223, 0.0010191, 0.0010214, ..., 0.000967 , 0.0009598,\n        0.0009489],\n       [0.0010191, 0.0010214, 0.0009966, ..., 0.0009598, 0.0009489,\n        0.0009452],\n       [0.0010214, 0.0009966, 0.0009912, ..., 0.0009489, 0.0009452,\n        0.000959 ],\n       ...,\n       [0.0021063, 0.002076 , 0.0021465, ..., 0.002073 , 0.0020889,\n        0.0020967],\n       [0.002076 , 0.0021465, 0.0020999, ..., 0.0020889, 0.0020967,\n        0.0021095],\n       [0.0021465, 0.0020999, 0.0020906, ..., 0.0020967, 0.0021095,\n        0.0021405]])"
     },
     "execution_count": 19,
     "metadata": {},
     "output_type": "execute_result"
    }
   ],
   "source": [
    "sliding_window_view(np.array(data), window_shape=10)\n"
   ],
   "metadata": {
    "collapsed": false,
    "pycharm": {
     "name": "#%%\n"
    }
   }
  }
 ],
 "metadata": {
  "kernelspec": {
   "display_name": "Python 3",
   "language": "python",
   "name": "python3"
  },
  "language_info": {
   "codemirror_mode": {
    "name": "ipython",
    "version": 2
   },
   "file_extension": ".py",
   "mimetype": "text/x-python",
   "name": "python",
   "nbconvert_exporter": "python",
   "pygments_lexer": "ipython2",
   "version": "2.7.6"
  }
 },
 "nbformat": 4,
 "nbformat_minor": 0
}