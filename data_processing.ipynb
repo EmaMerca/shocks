{
 "cells": [
  {
   "cell_type": "markdown",
   "metadata": {},
   "source": [
    "# Binance"
   ]
  },
  {
   "cell_type": "code",
   "execution_count": 1,
   "metadata": {},
   "outputs": [],
   "source": [
    "from bs4 import BeautifulSoup\n",
    "import requests\n",
    "import os\n",
    "# https://data.binance.vision/?prefix=data/spot/monthly/klines/\n",
    "# https://github.com/binance/binance-public-data"
   ]
  },
  {
   "cell_type": "code",
   "execution_count": 6,
   "metadata": {},
   "outputs": [],
   "source": [
    "url = \"https://data.binance.vision/?prefix=data/spot/monthly/klines/1INCHBTC/1m/\"\n",
    "\n",
    "with open(\"/home/ema/dev/shocks/data/binance_pairs.html\") as file:\n",
    "    soup = BeautifulSoup(file)"
   ]
  },
  {
   "cell_type": "code",
   "execution_count": 7,
   "metadata": {},
   "outputs": [],
   "source": [
    "pairs = []\n",
    "for pair in soup.find_all(\"a\")[1: ]:\n",
    "    pairs.append(pair.text.replace(\"/\", \"\"))\n",
    "\n",
    "def download_data(data_path, pair, months, freq=\"1m\"):\n",
    "    for month in months:\n",
    "        pair_dir = os.path.join(DATA_PATH, pair)\n",
    "        if not os.path.isdir(pair_dir):\n",
    "            os.mkdir(pair_dir)\n",
    "\n",
    "        url = f\"https://data.binance.vision/data/spot/monthly/klines/{pair}/{freq}/{pair}-{freq}-{month}.zip\"\n",
    "        os.system(f\" cd {pair_dir} && wget {url}\")\n",
    "\n",
    "def clean_duplicates():\n",
    "    DATA_PATH =\"/home/ema/dev/shocks/data/binance/\"\n",
    "    pairs = [os.path.join(DATA_PATH, pair) for pair in os.listdir(DATA_PATH)]\n",
    "    for pair in pairs:\n",
    "        files = [os.path.join(pair, file) for file in os.listdir(pair)]\n",
    "        for file in files:\n",
    "            if file.split(\".\")[-1] == \"1\":\n",
    "                os.remove(file)\n",
    " "
   ]
  },
  {
   "cell_type": "code",
   "execution_count": null,
   "metadata": {
    "pycharm": {
     "is_executing": true
    }
   },
   "outputs": [],
   "source": [
    "months = [\n",
    "    \"2021-04\",\n",
    "    \"2021-05\",\n",
    "    \"2021-06\",\n",
    "    \"2021-07\",\n",
    "    \"2021-08\",\n",
    "    \"2021-09\",\n",
    "    \"2021-10\",\n",
    "    \"2021-11\",\n",
    "    \"2021-12\",\n",
    "    \"2022-01\",\n",
    "    \"2022-02\",\n",
    "    \"2022-03\",\n",
    "    \"2022-04\"\n",
    "]\n",
    "\n",
    "freq = \"1m\"\n",
    "DATA_PATH =\"/home/ema/dev/shocks/data/binance/\"\n",
    "selected_pairs = (\n",
    "    \"BTCUSDT\", \"BNBBTC\", \"AVAXBTC\",\n",
    "    \"JOEBTC\", \"AXSTRY\", \"CAKEBRL\",\n",
    "    \"BTCETH\", \"ATOMUSDT\", \"MATICBNB\"\n",
    ")\n",
    "\n",
    "\n",
    "for pair in selected_pairs:\n",
    "    download_data(data_path=DATA_PATH, pair=pair, months=months, freq=\"1m\")\n",
    "clean_duplicates()"
   ]
  },
  {
   "cell_type": "code",
   "execution_count": 2,
   "metadata": {
    "collapsed": false,
    "pycharm": {
     "name": "#%%\n"
    }
   },
   "outputs": [],
   "source": [
    "%load_ext autoreload\n",
    "%autoreload 2"
   ]
  },
  {
   "cell_type": "code",
   "execution_count": 7,
   "metadata": {},
   "outputs": [],
   "source": [
    "from shocks.dataset import Dataset\n",
    "import pandas as pd\n",
    "import matplotlib.pyplot as plt\n",
    "\n",
    "pd.options.mode.chained_assignment = None  # default='warn'\n",
    "plt.rcParams[\"figure.figsize\"] = (20,15)\n",
    "\n",
    "data = Dataset(pair=\"AVAXBTC\")\n",
    "data.preprocess(freq=\"5m\")\n",
    "#data.fit(window=250)"
   ]
  },
  {
   "cell_type": "code",
   "execution_count": 73,
   "metadata": {
    "collapsed": false,
    "pycharm": {
     "name": "#%%\n"
    }
   },
   "outputs": [],
   "source": [
    "fit = data.fitted.copy()"
   ]
  },
  {
   "cell_type": "code",
   "execution_count": 35,
   "metadata": {
    "collapsed": false,
    "pycharm": {
     "name": "#%%\n"
    }
   },
   "outputs": [
    {
     "data": {
      "text/plain": [
       "(25567, 4368)"
      ]
     },
     "execution_count": 35,
     "metadata": {},
     "output_type": "execute_result"
    }
   ],
   "source": [
    "len(data.shocks), len(data.data)"
   ]
  },
  {
   "cell_type": "code",
   "execution_count": 8,
   "metadata": {},
   "outputs": [
    {
     "name": "stdout",
     "output_type": "stream",
     "text": [
      "shocks detected. Time:  0.16661381721496582\n",
      "Data fitted. Time:  1821.0170781612396\n"
     ]
    },
    {
     "data": {
      "application/vnd.jupyter.widget-view+json": {
       "model_id": "1c95eaf0c85a49e78c3df23f35c94e2a",
       "version_major": 2,
       "version_minor": 0
      },
      "text/plain": [
       "  0%|          | 0/358 [00:00<?, ?it/s]"
      ]
     },
     "metadata": {},
     "output_type": "display_data"
    },
    {
     "name": "stderr",
     "output_type": "stream",
     "text": [
      "/home/ema/dev/shocks/shocks/dataset.py:269: RuntimeWarning: divide by zero encountered in true_divide\n",
      "  }\n",
      "/home/ema/dev/shocks/shocks/dataset.py:268: RuntimeWarning: divide by zero encountered in true_divide\n",
      "  \"tot_pct_change\": lambda x: 100 * (x[:, -1] - x[:, 0]) / x[:, 0],\n",
      "/home/ema/dev/shocks/shocks/dataset.py:268: RuntimeWarning: invalid value encountered in true_divide\n",
      "  \"tot_pct_change\": lambda x: 100 * (x[:, -1] - x[:, 0]) / x[:, 0],\n",
      "/home/ema/dev/shocks/.venv/lib/python3.10/site-packages/numpy/core/_methods.py:232: RuntimeWarning: invalid value encountered in subtract\n",
      "  x = asanyarray(arr - arrmean)\n"
     ]
    },
    {
     "name": "stdout",
     "output_type": "stream",
     "text": [
      "Shocks processed. Time:  1.2947778701782227\n"
     ]
    },
    {
     "data": {
      "application/vnd.jupyter.widget-view+json": {
       "model_id": "309385250dd94786ad48dfe0e133d081",
       "version_major": 2,
       "version_minor": 0
      },
      "text/plain": [
       "  0%|          | 0/17900 [00:00<?, ?it/s]"
      ]
     },
     "metadata": {},
     "output_type": "display_data"
    },
    {
     "name": "stderr",
     "output_type": "stream",
     "text": [
      "/home/ema/dev/shocks/shocks/dataset.py:269: RuntimeWarning: invalid value encountered in true_divide\n",
      "  }\n",
      "/home/ema/dev/shocks/.venv/lib/python3.10/site-packages/numpy/core/_methods.py:179: RuntimeWarning: invalid value encountered in reduce\n",
      "  ret = umr_sum(arr, axis, dtype, out, keepdims, where=where)\n",
      "/home/ema/dev/shocks/.venv/lib/python3.10/site-packages/numpy/core/_methods.py:212: RuntimeWarning: invalid value encountered in reduce\n",
      "  arrmean = umr_sum(arr, axis, dtype, keepdims=True, where=where)\n"
     ]
    },
    {
     "name": "stdout",
     "output_type": "stream",
     "text": [
      "Non shocks processed. Time:  20.739856004714966\n",
      "AVAXBTC has been processed succesfully\n",
      "CPU times: user 1h 19min 27s, sys: 1min 17s, total: 1h 20min 44s\n",
      "Wall time: 30min 48s\n"
     ]
    }
   ],
   "source": [
    "%%time\n",
    "shock_features = data.build_dataset()\n",
    "# 30 it/sec\n"
   ]
  },
  {
   "cell_type": "code",
   "execution_count": 6,
   "metadata": {},
   "outputs": [],
   "source": [
    "data.find_shocks(start_date=\"2021-10\", end_date=\"2022-03\", plot=False, std_from_mean=3.5)\n",
    "# data.fit(window=250, start_date=\"2021-10-01\", end_date=\"2021-11-3\")\n",
    "# data.plot_fit(data.fitted, data.shocks)"
   ]
  },
  {
   "cell_type": "code",
   "execution_count": 12,
   "metadata": {
    "collapsed": false,
    "pycharm": {
     "name": "#%%\n"
    }
   },
   "outputs": [
    {
     "data": {
      "text/plain": [
       "1.4194139194139195"
      ]
     },
     "execution_count": 12,
     "metadata": {},
     "output_type": "execute_result"
    }
   ],
   "source": [
    "100 * len(data.shocks)/len(data.data)"
   ]
  },
  {
   "cell_type": "code",
   "execution_count": null,
   "metadata": {
    "collapsed": false,
    "pycharm": {
     "name": "#%%\n"
    }
   },
   "outputs": [],
   "source": []
  },
  {
   "cell_type": "code",
   "execution_count": 3,
   "metadata": {
    "collapsed": false,
    "pycharm": {
     "name": "#%%\n"
    }
   },
   "outputs": [],
   "source": [
    "from sklearn.ensemble import RandomForestClassifier\n",
    "from sklearn.model_selection import train_test_split\n",
    "from sklearn.metrics import classification_report\n",
    "\n",
    "import pickle\n",
    "with open('/home/ema/dev/shocks/data/processed/AVAXBTC_1h.pkl', 'rb') as f:\n",
    "    d = pickle.load(f)\n",
    "\n",
    "for el in d['features']:\n",
    "     direction = el['direction']\n",
    "     el['direction'] = 1 if direction == -1 else direction\n",
    "\n",
    "df = pd.DataFrame.from_dict(d['features'])\n",
    "cols = [col for col in df.columns if col != 'direction']\n",
    "labels = df['direction'].tolist()\n",
    "X_train, X_test, y_train, y_test = train_test_split(df[cols], labels, test_size=0.5, random_state=42, stratify=labels)"
   ]
  },
  {
   "cell_type": "code",
   "execution_count": 5,
   "metadata": {
    "collapsed": false,
    "pycharm": {
     "name": "#%%\n"
    }
   },
   "outputs": [
    {
     "name": "stdout",
     "output_type": "stream",
     "text": [
      "              precision    recall  f1-score   support\n",
      "\n",
      "           0       1.00      1.00      1.00       775\n",
      "           1       1.00      1.00      1.00        15\n",
      "\n",
      "    accuracy                           1.00       790\n",
      "   macro avg       1.00      1.00      1.00       790\n",
      "weighted avg       1.00      1.00      1.00       790\n",
      "\n"
     ]
    }
   ],
   "source": [
    "class_weights = {\n",
    "   # -1: (len([el for el in labels if el == -1]) / len(labels)),\n",
    "    0: (len([el for el in labels if el == 0]) / len(labels)),\n",
    "    1: (len([el for el in labels if el == 1]) / len(labels)),\n",
    "}\n",
    "\n",
    "model = RandomForestClassifier(class_weight=class_weights)\n",
    "model.fit(X_train, y_train)\n",
    "preds = model.predict(X_test)\n",
    "print(classification_report(y_test, preds, target_names=['0', '1']))"
   ]
  },
  {
   "cell_type": "code",
   "execution_count": null,
   "metadata": {
    "collapsed": false,
    "pycharm": {
     "name": "#%%\n"
    }
   },
   "outputs": [],
   "source": []
  },
  {
   "cell_type": "markdown",
   "metadata": {},
   "source": [
    "# Lobster"
   ]
  },
  {
   "cell_type": "code",
   "execution_count": 2,
   "metadata": {},
   "outputs": [
    {
     "name": "stdout",
     "output_type": "stream",
     "text": [
      "Reading 2022-01-28 00:00:00 message\n"
     ]
    },
    {
     "ename": "ValueError",
     "evalue": "7 columns passed, passed data had 1 columns",
     "output_type": "error",
     "traceback": [
      "\u001b[0;31m---------------------------------------------------------------------------\u001b[0m",
      "\u001b[0;31mAssertionError\u001b[0m                            Traceback (most recent call last)",
      "File \u001b[0;32m~/dev/shocks/.venv/lib/python3.10/site-packages/pandas/core/internals/construction.py:982\u001b[0m, in \u001b[0;36m_finalize_columns_and_data\u001b[0;34m(content, columns, dtype)\u001b[0m\n\u001b[1;32m    <a href='file:///home/ema/dev/shocks/.venv/lib/python3.10/site-packages/pandas/core/internals/construction.py?line=980'>981</a>\u001b[0m \u001b[39mtry\u001b[39;00m:\n\u001b[0;32m--> <a href='file:///home/ema/dev/shocks/.venv/lib/python3.10/site-packages/pandas/core/internals/construction.py?line=981'>982</a>\u001b[0m     columns \u001b[39m=\u001b[39m _validate_or_indexify_columns(contents, columns)\n\u001b[1;32m    <a href='file:///home/ema/dev/shocks/.venv/lib/python3.10/site-packages/pandas/core/internals/construction.py?line=982'>983</a>\u001b[0m \u001b[39mexcept\u001b[39;00m \u001b[39mAssertionError\u001b[39;00m \u001b[39mas\u001b[39;00m err:\n\u001b[1;32m    <a href='file:///home/ema/dev/shocks/.venv/lib/python3.10/site-packages/pandas/core/internals/construction.py?line=983'>984</a>\u001b[0m     \u001b[39m# GH#26429 do not raise user-facing AssertionError\u001b[39;00m\n",
      "File \u001b[0;32m~/dev/shocks/.venv/lib/python3.10/site-packages/pandas/core/internals/construction.py:1030\u001b[0m, in \u001b[0;36m_validate_or_indexify_columns\u001b[0;34m(content, columns)\u001b[0m\n\u001b[1;32m   <a href='file:///home/ema/dev/shocks/.venv/lib/python3.10/site-packages/pandas/core/internals/construction.py?line=1027'>1028</a>\u001b[0m \u001b[39mif\u001b[39;00m \u001b[39mnot\u001b[39;00m is_mi_list \u001b[39mand\u001b[39;00m \u001b[39mlen\u001b[39m(columns) \u001b[39m!=\u001b[39m \u001b[39mlen\u001b[39m(content):  \u001b[39m# pragma: no cover\u001b[39;00m\n\u001b[1;32m   <a href='file:///home/ema/dev/shocks/.venv/lib/python3.10/site-packages/pandas/core/internals/construction.py?line=1028'>1029</a>\u001b[0m     \u001b[39m# caller's responsibility to check for this...\u001b[39;00m\n\u001b[0;32m-> <a href='file:///home/ema/dev/shocks/.venv/lib/python3.10/site-packages/pandas/core/internals/construction.py?line=1029'>1030</a>\u001b[0m     \u001b[39mraise\u001b[39;00m \u001b[39mAssertionError\u001b[39;00m(\n\u001b[1;32m   <a href='file:///home/ema/dev/shocks/.venv/lib/python3.10/site-packages/pandas/core/internals/construction.py?line=1030'>1031</a>\u001b[0m         \u001b[39mf\u001b[39m\u001b[39m\"\u001b[39m\u001b[39m{\u001b[39;00m\u001b[39mlen\u001b[39m(columns)\u001b[39m}\u001b[39;00m\u001b[39m columns passed, passed data had \u001b[39m\u001b[39m\"\u001b[39m\n\u001b[1;32m   <a href='file:///home/ema/dev/shocks/.venv/lib/python3.10/site-packages/pandas/core/internals/construction.py?line=1031'>1032</a>\u001b[0m         \u001b[39mf\u001b[39m\u001b[39m\"\u001b[39m\u001b[39m{\u001b[39;00m\u001b[39mlen\u001b[39m(content)\u001b[39m}\u001b[39;00m\u001b[39m columns\u001b[39m\u001b[39m\"\u001b[39m\n\u001b[1;32m   <a href='file:///home/ema/dev/shocks/.venv/lib/python3.10/site-packages/pandas/core/internals/construction.py?line=1032'>1033</a>\u001b[0m     )\n\u001b[1;32m   <a href='file:///home/ema/dev/shocks/.venv/lib/python3.10/site-packages/pandas/core/internals/construction.py?line=1033'>1034</a>\u001b[0m \u001b[39melif\u001b[39;00m is_mi_list:\n\u001b[1;32m   <a href='file:///home/ema/dev/shocks/.venv/lib/python3.10/site-packages/pandas/core/internals/construction.py?line=1034'>1035</a>\u001b[0m \n\u001b[1;32m   <a href='file:///home/ema/dev/shocks/.venv/lib/python3.10/site-packages/pandas/core/internals/construction.py?line=1035'>1036</a>\u001b[0m     \u001b[39m# check if nested list column, length of each sub-list should be equal\u001b[39;00m\n",
      "\u001b[0;31mAssertionError\u001b[0m: 7 columns passed, passed data had 1 columns",
      "\nThe above exception was the direct cause of the following exception:\n",
      "\u001b[0;31mValueError\u001b[0m                                Traceback (most recent call last)",
      "\u001b[1;32m/home/ema/dev/shocks/data_processing.ipynb Cell 18'\u001b[0m in \u001b[0;36m<cell line: 7>\u001b[0;34m()\u001b[0m\n\u001b[1;32m      <a href='vscode-notebook-cell:/home/ema/dev/shocks/data_processing.ipynb#ch0000016?line=2'>3</a>\u001b[0m \u001b[39mfrom\u001b[39;00m \u001b[39mshocks\u001b[39;00m\u001b[39m.\u001b[39;00m\u001b[39mlobster_utils\u001b[39;00m\u001b[39m.\u001b[39;00m\u001b[39mconfig\u001b[39;00m \u001b[39mimport\u001b[39;00m \u001b[39m*\u001b[39m\n\u001b[1;32m      <a href='vscode-notebook-cell:/home/ema/dev/shocks/data_processing.ipynb#ch0000016?line=4'>5</a>\u001b[0m fname \u001b[39m=\u001b[39m from_root(\u001b[39m*\u001b[39m\u001b[39m\"\u001b[39m\u001b[39mdata lobster _data_dwn_48_332__GME_2021-11-01_2022-04-30_10.7z\u001b[39m\u001b[39m\"\u001b[39m\u001b[39m.\u001b[39msplit(\u001b[39m\"\u001b[39m\u001b[39m \u001b[39m\u001b[39m\"\u001b[39m))\n\u001b[0;32m----> <a href='vscode-notebook-cell:/home/ema/dev/shocks/data_processing.ipynb#ch0000016?line=6'>7</a>\u001b[0m ohlc \u001b[39m=\u001b[39m ohlc_df_from_7z(\n\u001b[1;32m      <a href='vscode-notebook-cell:/home/ema/dev/shocks/data_processing.ipynb#ch0000016?line=7'>8</a>\u001b[0m     fname,\n\u001b[1;32m      <a href='vscode-notebook-cell:/home/ema/dev/shocks/data_processing.ipynb#ch0000016?line=8'>9</a>\u001b[0m     first_date\u001b[39m=\u001b[39;49m\u001b[39m\"\u001b[39;49m\u001b[39m2021-11-01\u001b[39;49m\u001b[39m\"\u001b[39;49m, \n\u001b[1;32m     <a href='vscode-notebook-cell:/home/ema/dev/shocks/data_processing.ipynb#ch0000016?line=9'>10</a>\u001b[0m     last_date\u001b[39m=\u001b[39;49m\u001b[39m\"\u001b[39;49m\u001b[39m2022-12-01\u001b[39;49m\u001b[39m\"\u001b[39;49m, \n\u001b[1;32m     <a href='vscode-notebook-cell:/home/ema/dev/shocks/data_processing.ipynb#ch0000016?line=10'>11</a>\u001b[0m     granularity\u001b[39m=\u001b[39;49mGranularity\u001b[39m.\u001b[39;49mMin1\n\u001b[1;32m     <a href='vscode-notebook-cell:/home/ema/dev/shocks/data_processing.ipynb#ch0000016?line=11'>12</a>\u001b[0m )\n",
      "File \u001b[0;32m~/dev/shocks/shocks/lobster_utils/lobster_util.py:35\u001b[0m, in \u001b[0;36mohlc_df_from_7z\u001b[0;34m(file_7z, first_date, last_date, plot, granularity)\u001b[0m\n\u001b[1;32m     <a href='file:///home/ema/dev/shocks/shocks/lobster_utils/lobster_util.py?line=26'>27</a>\u001b[0m \u001b[39mdef\u001b[39;00m \u001b[39mohlc_df_from_7z\u001b[39m(file_7z: \u001b[39mstr\u001b[39m, first_date: \u001b[39mstr\u001b[39m \u001b[39m=\u001b[39m \u001b[39m\"\u001b[39m\u001b[39m1990-01-01\u001b[39m\u001b[39m\"\u001b[39m,\n\u001b[1;32m     <a href='file:///home/ema/dev/shocks/shocks/lobster_utils/lobster_util.py?line=27'>28</a>\u001b[0m                          last_date: \u001b[39mstr\u001b[39m \u001b[39m=\u001b[39m \u001b[39m\"\u001b[39m\u001b[39m2100-01-01\u001b[39m\u001b[39m\"\u001b[39m,\n\u001b[1;32m     <a href='file:///home/ema/dev/shocks/shocks/lobster_utils/lobster_util.py?line=28'>29</a>\u001b[0m                          plot: \u001b[39mbool\u001b[39m \u001b[39m=\u001b[39m \u001b[39mFalse\u001b[39;00m,\n\u001b[1;32m     <a href='file:///home/ema/dev/shocks/shocks/lobster_utils/lobster_util.py?line=29'>30</a>\u001b[0m                          granularity: config\u001b[39m.\u001b[39mGranularity \u001b[39m=\u001b[39m config\u001b[39m.\u001b[39mGranularity\u001b[39m.\u001b[39mHour1) \u001b[39m-\u001b[39m\u001b[39m>\u001b[39m pd\u001b[39m.\u001b[39mDataFrame:\n\u001b[1;32m     <a href='file:///home/ema/dev/shocks/shocks/lobster_utils/lobster_util.py?line=30'>31</a>\u001b[0m     \u001b[39m\"\"\" read the input 7z lobster file and return a ohlc df with the selected granularity \u001b[39;00m\n\u001b[1;32m     <a href='file:///home/ema/dev/shocks/shocks/lobster_utils/lobster_util.py?line=31'>32</a>\u001b[0m \n\u001b[1;32m     <a href='file:///home/ema/dev/shocks/shocks/lobster_utils/lobster_util.py?line=32'>33</a>\u001b[0m \u001b[39m        both first_date and last_date are included in the output!!\u001b[39;00m\n\u001b[1;32m     <a href='file:///home/ema/dev/shocks/shocks/lobster_utils/lobster_util.py?line=33'>34</a>\u001b[0m \u001b[39m    \"\"\"\u001b[39;00m\n\u001b[0;32m---> <a href='file:///home/ema/dev/shocks/shocks/lobster_utils/lobster_util.py?line=34'>35</a>\u001b[0m     message_dfs \u001b[39m=\u001b[39m read_7z_sub_routine(file_7z, first_date, last_date, \u001b[39m\"\u001b[39;49m\u001b[39mmessage\u001b[39;49m\u001b[39m\"\u001b[39;49m, level\u001b[39m=\u001b[39;49m\u001b[39m1\u001b[39;49m)\n\u001b[1;32m     <a href='file:///home/ema/dev/shocks/shocks/lobster_utils/lobster_util.py?line=36'>37</a>\u001b[0m     ohlcs \u001b[39m=\u001b[39m []\n\u001b[1;32m     <a href='file:///home/ema/dev/shocks/shocks/lobster_utils/lobster_util.py?line=37'>38</a>\u001b[0m     \u001b[39mfor\u001b[39;00m d \u001b[39min\u001b[39;00m \u001b[39msorted\u001b[39m(message_dfs\u001b[39m.\u001b[39mkeys()):\n",
      "File \u001b[0;32m~/dev/shocks/shocks/lobster_utils/lobster_util.py:145\u001b[0m, in \u001b[0;36mread_7z_sub_routine\u001b[0;34m(file_7z, first_date, last_date, type_file, level)\u001b[0m\n\u001b[1;32m    <a href='file:///home/ema/dev/shocks/shocks/lobster_utils/lobster_util.py?line=141'>142</a>\u001b[0m     df \u001b[39m=\u001b[39m pd\u001b[39m.\u001b[39mDataFrame([x\u001b[39m.\u001b[39msplit(\u001b[39m'\u001b[39m\u001b[39m,\u001b[39m\u001b[39m'\u001b[39m)[:\u001b[39mlen\u001b[39m(columns)] \u001b[39mfor\u001b[39;00m x \u001b[39min\u001b[39;00m text\u001b[39m.\u001b[39msplit(\u001b[39m'\u001b[39m\u001b[39m\\n\u001b[39;00m\u001b[39m'\u001b[39m)],\n\u001b[1;32m    <a href='file:///home/ema/dev/shocks/shocks/lobster_utils/lobster_util.py?line=142'>143</a>\u001b[0m                   columns\u001b[39m=\u001b[39mcolumns, dtype\u001b[39m=\u001b[39m\u001b[39m\"\u001b[39m\u001b[39mfloat64\u001b[39m\u001b[39m\"\u001b[39m)\n\u001b[1;32m    <a href='file:///home/ema/dev/shocks/shocks/lobster_utils/lobster_util.py?line=143'>144</a>\u001b[0m \u001b[39melse\u001b[39;00m:\n\u001b[0;32m--> <a href='file:///home/ema/dev/shocks/shocks/lobster_utils/lobster_util.py?line=144'>145</a>\u001b[0m     df \u001b[39m=\u001b[39m pd\u001b[39m.\u001b[39;49mDataFrame([x\u001b[39m.\u001b[39;49msplit(\u001b[39m'\u001b[39;49m\u001b[39m,\u001b[39;49m\u001b[39m'\u001b[39;49m) \u001b[39mfor\u001b[39;49;00m x \u001b[39min\u001b[39;49;00m text\u001b[39m.\u001b[39;49msplit(\u001b[39m'\u001b[39;49m\u001b[39m\\n\u001b[39;49;00m\u001b[39m'\u001b[39;49m)],\n\u001b[1;32m    <a href='file:///home/ema/dev/shocks/shocks/lobster_utils/lobster_util.py?line=145'>146</a>\u001b[0m                   columns\u001b[39m=\u001b[39;49mcolumns, dtype\u001b[39m=\u001b[39;49m\u001b[39m\"\u001b[39;49m\u001b[39mfloat64\u001b[39;49m\u001b[39m\"\u001b[39;49m)\n\u001b[1;32m    <a href='file:///home/ema/dev/shocks/shocks/lobster_utils/lobster_util.py?line=146'>147</a>\u001b[0m \u001b[39m# put types\u001b[39;00m\n\u001b[1;32m    <a href='file:///home/ema/dev/shocks/shocks/lobster_utils/lobster_util.py?line=147'>148</a>\u001b[0m all_period[entry_date] \u001b[39m=\u001b[39m df\n",
      "File \u001b[0;32m~/dev/shocks/.venv/lib/python3.10/site-packages/pandas/core/frame.py:721\u001b[0m, in \u001b[0;36mDataFrame.__init__\u001b[0;34m(self, data, index, columns, dtype, copy)\u001b[0m\n\u001b[1;32m    <a href='file:///home/ema/dev/shocks/.venv/lib/python3.10/site-packages/pandas/core/frame.py?line=715'>716</a>\u001b[0m     \u001b[39mif\u001b[39;00m columns \u001b[39mis\u001b[39;00m \u001b[39mnot\u001b[39;00m \u001b[39mNone\u001b[39;00m:\n\u001b[1;32m    <a href='file:///home/ema/dev/shocks/.venv/lib/python3.10/site-packages/pandas/core/frame.py?line=716'>717</a>\u001b[0m         \u001b[39m# error: Argument 1 to \"ensure_index\" has incompatible type\u001b[39;00m\n\u001b[1;32m    <a href='file:///home/ema/dev/shocks/.venv/lib/python3.10/site-packages/pandas/core/frame.py?line=717'>718</a>\u001b[0m         \u001b[39m# \"Collection[Any]\"; expected \"Union[Union[Union[ExtensionArray,\u001b[39;00m\n\u001b[1;32m    <a href='file:///home/ema/dev/shocks/.venv/lib/python3.10/site-packages/pandas/core/frame.py?line=718'>719</a>\u001b[0m         \u001b[39m# ndarray], Index, Series], Sequence[Any]]\"\u001b[39;00m\n\u001b[1;32m    <a href='file:///home/ema/dev/shocks/.venv/lib/python3.10/site-packages/pandas/core/frame.py?line=719'>720</a>\u001b[0m         columns \u001b[39m=\u001b[39m ensure_index(columns)  \u001b[39m# type: ignore[arg-type]\u001b[39;00m\n\u001b[0;32m--> <a href='file:///home/ema/dev/shocks/.venv/lib/python3.10/site-packages/pandas/core/frame.py?line=720'>721</a>\u001b[0m     arrays, columns, index \u001b[39m=\u001b[39m nested_data_to_arrays(\n\u001b[1;32m    <a href='file:///home/ema/dev/shocks/.venv/lib/python3.10/site-packages/pandas/core/frame.py?line=721'>722</a>\u001b[0m         \u001b[39m# error: Argument 3 to \"nested_data_to_arrays\" has incompatible\u001b[39;49;00m\n\u001b[1;32m    <a href='file:///home/ema/dev/shocks/.venv/lib/python3.10/site-packages/pandas/core/frame.py?line=722'>723</a>\u001b[0m         \u001b[39m# type \"Optional[Collection[Any]]\"; expected \"Optional[Index]\"\u001b[39;49;00m\n\u001b[1;32m    <a href='file:///home/ema/dev/shocks/.venv/lib/python3.10/site-packages/pandas/core/frame.py?line=723'>724</a>\u001b[0m         data,\n\u001b[1;32m    <a href='file:///home/ema/dev/shocks/.venv/lib/python3.10/site-packages/pandas/core/frame.py?line=724'>725</a>\u001b[0m         columns,\n\u001b[1;32m    <a href='file:///home/ema/dev/shocks/.venv/lib/python3.10/site-packages/pandas/core/frame.py?line=725'>726</a>\u001b[0m         index,  \u001b[39m# type: ignore[arg-type]\u001b[39;49;00m\n\u001b[1;32m    <a href='file:///home/ema/dev/shocks/.venv/lib/python3.10/site-packages/pandas/core/frame.py?line=726'>727</a>\u001b[0m         dtype,\n\u001b[1;32m    <a href='file:///home/ema/dev/shocks/.venv/lib/python3.10/site-packages/pandas/core/frame.py?line=727'>728</a>\u001b[0m     )\n\u001b[1;32m    <a href='file:///home/ema/dev/shocks/.venv/lib/python3.10/site-packages/pandas/core/frame.py?line=728'>729</a>\u001b[0m     mgr \u001b[39m=\u001b[39m arrays_to_mgr(\n\u001b[1;32m    <a href='file:///home/ema/dev/shocks/.venv/lib/python3.10/site-packages/pandas/core/frame.py?line=729'>730</a>\u001b[0m         arrays,\n\u001b[1;32m    <a href='file:///home/ema/dev/shocks/.venv/lib/python3.10/site-packages/pandas/core/frame.py?line=730'>731</a>\u001b[0m         columns,\n\u001b[0;32m   (...)\u001b[0m\n\u001b[1;32m    <a href='file:///home/ema/dev/shocks/.venv/lib/python3.10/site-packages/pandas/core/frame.py?line=733'>734</a>\u001b[0m         typ\u001b[39m=\u001b[39mmanager,\n\u001b[1;32m    <a href='file:///home/ema/dev/shocks/.venv/lib/python3.10/site-packages/pandas/core/frame.py?line=734'>735</a>\u001b[0m     )\n\u001b[1;32m    <a href='file:///home/ema/dev/shocks/.venv/lib/python3.10/site-packages/pandas/core/frame.py?line=735'>736</a>\u001b[0m \u001b[39melse\u001b[39;00m:\n",
      "File \u001b[0;32m~/dev/shocks/.venv/lib/python3.10/site-packages/pandas/core/internals/construction.py:519\u001b[0m, in \u001b[0;36mnested_data_to_arrays\u001b[0;34m(data, columns, index, dtype)\u001b[0m\n\u001b[1;32m    <a href='file:///home/ema/dev/shocks/.venv/lib/python3.10/site-packages/pandas/core/internals/construction.py?line=515'>516</a>\u001b[0m \u001b[39mif\u001b[39;00m is_named_tuple(data[\u001b[39m0\u001b[39m]) \u001b[39mand\u001b[39;00m columns \u001b[39mis\u001b[39;00m \u001b[39mNone\u001b[39;00m:\n\u001b[1;32m    <a href='file:///home/ema/dev/shocks/.venv/lib/python3.10/site-packages/pandas/core/internals/construction.py?line=516'>517</a>\u001b[0m     columns \u001b[39m=\u001b[39m ensure_index(data[\u001b[39m0\u001b[39m]\u001b[39m.\u001b[39m_fields)\n\u001b[0;32m--> <a href='file:///home/ema/dev/shocks/.venv/lib/python3.10/site-packages/pandas/core/internals/construction.py?line=518'>519</a>\u001b[0m arrays, columns \u001b[39m=\u001b[39m to_arrays(data, columns, dtype\u001b[39m=\u001b[39;49mdtype)\n\u001b[1;32m    <a href='file:///home/ema/dev/shocks/.venv/lib/python3.10/site-packages/pandas/core/internals/construction.py?line=519'>520</a>\u001b[0m columns \u001b[39m=\u001b[39m ensure_index(columns)\n\u001b[1;32m    <a href='file:///home/ema/dev/shocks/.venv/lib/python3.10/site-packages/pandas/core/internals/construction.py?line=521'>522</a>\u001b[0m \u001b[39mif\u001b[39;00m index \u001b[39mis\u001b[39;00m \u001b[39mNone\u001b[39;00m:\n",
      "File \u001b[0;32m~/dev/shocks/.venv/lib/python3.10/site-packages/pandas/core/internals/construction.py:883\u001b[0m, in \u001b[0;36mto_arrays\u001b[0;34m(data, columns, dtype)\u001b[0m\n\u001b[1;32m    <a href='file:///home/ema/dev/shocks/.venv/lib/python3.10/site-packages/pandas/core/internals/construction.py?line=879'>880</a>\u001b[0m     data \u001b[39m=\u001b[39m [\u001b[39mtuple\u001b[39m(x) \u001b[39mfor\u001b[39;00m x \u001b[39min\u001b[39;00m data]\n\u001b[1;32m    <a href='file:///home/ema/dev/shocks/.venv/lib/python3.10/site-packages/pandas/core/internals/construction.py?line=880'>881</a>\u001b[0m     arr \u001b[39m=\u001b[39m _list_to_arrays(data)\n\u001b[0;32m--> <a href='file:///home/ema/dev/shocks/.venv/lib/python3.10/site-packages/pandas/core/internals/construction.py?line=882'>883</a>\u001b[0m content, columns \u001b[39m=\u001b[39m _finalize_columns_and_data(arr, columns, dtype)\n\u001b[1;32m    <a href='file:///home/ema/dev/shocks/.venv/lib/python3.10/site-packages/pandas/core/internals/construction.py?line=883'>884</a>\u001b[0m \u001b[39mreturn\u001b[39;00m content, columns\n",
      "File \u001b[0;32m~/dev/shocks/.venv/lib/python3.10/site-packages/pandas/core/internals/construction.py:985\u001b[0m, in \u001b[0;36m_finalize_columns_and_data\u001b[0;34m(content, columns, dtype)\u001b[0m\n\u001b[1;32m    <a href='file:///home/ema/dev/shocks/.venv/lib/python3.10/site-packages/pandas/core/internals/construction.py?line=981'>982</a>\u001b[0m     columns \u001b[39m=\u001b[39m _validate_or_indexify_columns(contents, columns)\n\u001b[1;32m    <a href='file:///home/ema/dev/shocks/.venv/lib/python3.10/site-packages/pandas/core/internals/construction.py?line=982'>983</a>\u001b[0m \u001b[39mexcept\u001b[39;00m \u001b[39mAssertionError\u001b[39;00m \u001b[39mas\u001b[39;00m err:\n\u001b[1;32m    <a href='file:///home/ema/dev/shocks/.venv/lib/python3.10/site-packages/pandas/core/internals/construction.py?line=983'>984</a>\u001b[0m     \u001b[39m# GH#26429 do not raise user-facing AssertionError\u001b[39;00m\n\u001b[0;32m--> <a href='file:///home/ema/dev/shocks/.venv/lib/python3.10/site-packages/pandas/core/internals/construction.py?line=984'>985</a>\u001b[0m     \u001b[39mraise\u001b[39;00m \u001b[39mValueError\u001b[39;00m(err) \u001b[39mfrom\u001b[39;00m \u001b[39merr\u001b[39;00m\n\u001b[1;32m    <a href='file:///home/ema/dev/shocks/.venv/lib/python3.10/site-packages/pandas/core/internals/construction.py?line=986'>987</a>\u001b[0m \u001b[39mif\u001b[39;00m \u001b[39mlen\u001b[39m(contents) \u001b[39mand\u001b[39;00m contents[\u001b[39m0\u001b[39m]\u001b[39m.\u001b[39mdtype \u001b[39m==\u001b[39m np\u001b[39m.\u001b[39mobject_:\n\u001b[1;32m    <a href='file:///home/ema/dev/shocks/.venv/lib/python3.10/site-packages/pandas/core/internals/construction.py?line=987'>988</a>\u001b[0m     contents \u001b[39m=\u001b[39m _convert_object_array(contents, dtype\u001b[39m=\u001b[39mdtype)\n",
      "\u001b[0;31mValueError\u001b[0m: 7 columns passed, passed data had 1 columns"
     ]
    }
   ],
   "source": [
    "from shocks import from_root\n",
    "from shocks.lobster_utils.lobster_util import *\n",
    "from shocks.lobster_utils.config import *\n",
    "\n",
    "fname = from_root(*\"data lobster _data_dwn_48_332__GME_2021-11-01_2022-04-30_10.7z\".split(\" \"))\n",
    "\n",
    "ohlc = ohlc_df_from_7z(\n",
    "    fname,\n",
    "    first_date=\"2021-11-01\", \n",
    "    last_date=\"2022-12-01\", \n",
    "    granularity=Granularity.Min1\n",
    ")"
   ]
  }
 ],
 "metadata": {
  "interpreter": {
   "hash": "7398fef3eacf58b3cd6788b8ecfb7f4bf5a538c0cb8687acd308282992e7f955"
  },
  "kernelspec": {
   "display_name": "Python 3.10.3 ('.venv': poetry)",
   "language": "python",
   "name": "python3"
  },
  "language_info": {
   "codemirror_mode": {
    "name": "ipython",
    "version": 3
   },
   "file_extension": ".py",
   "mimetype": "text/x-python",
   "name": "python",
   "nbconvert_exporter": "python",
   "pygments_lexer": "ipython3",
   "version": "3.10.3"
  },
  "orig_nbformat": 4
 },
 "nbformat": 4,
 "nbformat_minor": 2
}
