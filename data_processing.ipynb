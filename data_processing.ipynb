{
 "cells": [
  {
   "cell_type": "code",
   "execution_count": 1,
   "metadata": {},
   "outputs": [],
   "source": [
    "%load_ext autoreload\n",
    "%autoreload 2"
   ]
  },
  {
   "cell_type": "markdown",
   "metadata": {},
   "source": [
    "# Binance"
   ]
  },
  {
   "cell_type": "code",
   "execution_count": 1,
   "metadata": {},
   "outputs": [],
   "source": [
    "from bs4 import BeautifulSoup\n",
    "import requests\n",
    "import os\n",
    "# https://data.binance.vision/?prefix=data/spot/monthly/klines/\n",
    "# https://github.com/binance/binance-public-data"
   ]
  },
  {
   "cell_type": "code",
   "execution_count": 6,
   "metadata": {},
   "outputs": [],
   "source": [
    "url = \"https://data.binance.vision/?prefix=data/spot/monthly/klines/1INCHBTC/1m/\"\n",
    "\n",
    "with open(\"/home/ema/dev/shocks/data/binance_pairs.html\") as file:\n",
    "    soup = BeautifulSoup(file)"
   ]
  },
  {
   "cell_type": "code",
   "execution_count": 7,
   "metadata": {},
   "outputs": [],
   "source": [
    "pairs = []\n",
    "for pair in soup.find_all(\"a\")[1: ]:\n",
    "    pairs.append(pair.text.replace(\"/\", \"\"))\n",
    "\n",
    "def download_data(data_path, pair, months, freq=\"1m\"):\n",
    "    for month in months:\n",
    "        pair_dir = os.path.join(DATA_PATH, pair)\n",
    "        if not os.path.isdir(pair_dir):\n",
    "            os.mkdir(pair_dir)\n",
    "\n",
    "        url = f\"https://data.binance.vision/data/spot/monthly/klines/{pair}/{freq}/{pair}-{freq}-{month}.zip\"\n",
    "        os.system(f\" cd {pair_dir} && wget {url}\")\n",
    "\n",
    "def clean_duplicates():\n",
    "    DATA_PATH =\"/home/ema/dev/shocks/data/binance/\"\n",
    "    pairs = [os.path.join(DATA_PATH, pair) for pair in os.listdir(DATA_PATH)]\n",
    "    for pair in pairs:\n",
    "        files = [os.path.join(pair, file) for file in os.listdir(pair)]\n",
    "        for file in files:\n",
    "            if file.split(\".\")[-1] == \"1\":\n",
    "                os.remove(file)\n",
    " "
   ]
  },
  {
   "cell_type": "code",
   "execution_count": null,
   "metadata": {
    "pycharm": {
     "is_executing": true
    }
   },
   "outputs": [],
   "source": [
    "months = [\n",
    "    \"2021-04\",\n",
    "    \"2021-05\",\n",
    "    \"2021-06\",\n",
    "    \"2021-07\",\n",
    "    \"2021-08\",\n",
    "    \"2021-09\",\n",
    "    \"2021-10\",\n",
    "    \"2021-11\",\n",
    "    \"2021-12\",\n",
    "    \"2022-01\",\n",
    "    \"2022-02\",\n",
    "    \"2022-03\",\n",
    "    \"2022-04\"\n",
    "]\n",
    "\n",
    "freq = \"1m\"\n",
    "DATA_PATH =\"/home/ema/dev/shocks/data/binance/\"\n",
    "selected_pairs = (\n",
    "    \"BTCUSDT\", \"BNBBTC\", \"AVAXBTC\",\n",
    "    \"JOEBTC\", \"AXSTRY\", \"CAKEBRL\",\n",
    "    \"BTCETH\", \"ATOMUSDT\", \"MATICBNB\"\n",
    ")\n",
    "\n",
    "\n",
    "for pair in selected_pairs:\n",
    "    download_data(data_path=DATA_PATH, pair=pair, months=months, freq=\"1m\")\n",
    "clean_duplicates()"
   ]
  },
  {
   "cell_type": "code",
   "execution_count": 4,
   "metadata": {},
   "outputs": [
    {
     "ename": "AttributeError",
     "evalue": "'Dataset' object has no attribute 'freq'",
     "output_type": "error",
     "traceback": [
      "\u001b[0;31m---------------------------------------------------------------------------\u001b[0m",
      "\u001b[0;31mAttributeError\u001b[0m                            Traceback (most recent call last)",
      "\u001b[1;32m/home/ema/dev/shocks/data_processing.ipynb Cell 7'\u001b[0m in \u001b[0;36m<cell line: 9>\u001b[0;34m()\u001b[0m\n\u001b[1;32m      <a href='vscode-notebook-cell:/home/ema/dev/shocks/data_processing.ipynb#ch0000006?line=5'>6</a>\u001b[0m plt\u001b[39m.\u001b[39mrcParams[\u001b[39m\"\u001b[39m\u001b[39mfigure.figsize\u001b[39m\u001b[39m\"\u001b[39m] \u001b[39m=\u001b[39m (\u001b[39m20\u001b[39m,\u001b[39m15\u001b[39m)\n\u001b[1;32m      <a href='vscode-notebook-cell:/home/ema/dev/shocks/data_processing.ipynb#ch0000006?line=7'>8</a>\u001b[0m data \u001b[39m=\u001b[39m Dataset(pair\u001b[39m=\u001b[39m\u001b[39m\"\u001b[39m\u001b[39mBNBBTC\u001b[39m\u001b[39m\"\u001b[39m)\n\u001b[0;32m----> <a href='vscode-notebook-cell:/home/ema/dev/shocks/data_processing.ipynb#ch0000006?line=8'>9</a>\u001b[0m data\u001b[39m.\u001b[39;49mbuild_dataset(from_checkpoint\u001b[39m=\u001b[39;49m\u001b[39mTrue\u001b[39;49;00m)\n",
      "File \u001b[0;32m~/dev/shocks/shocks/dataset.py:257\u001b[0m, in \u001b[0;36mDataset.build_dataset\u001b[0;34m(self, shocks_window, fit_window, std_from_mean, max_workers, from_checkpoint)\u001b[0m\n\u001b[1;32m    <a href='file:///home/ema/dev/shocks/shocks/dataset.py?line=254'>255</a>\u001b[0m checkpoint_path \u001b[39m=\u001b[39m from_root(\u001b[39m\"\u001b[39m\u001b[39mdata\u001b[39m\u001b[39m\"\u001b[39m, \u001b[39m\"\u001b[39m\u001b[39mcheckpoints\u001b[39m\u001b[39m\"\u001b[39m)\n\u001b[1;32m    <a href='file:///home/ema/dev/shocks/shocks/dataset.py?line=255'>256</a>\u001b[0m \u001b[39mif\u001b[39;00m from_checkpoint:\n\u001b[0;32m--> <a href='file:///home/ema/dev/shocks/shocks/dataset.py?line=256'>257</a>\u001b[0m     \u001b[39mwith\u001b[39;00m \u001b[39mopen\u001b[39m(\u001b[39mf\u001b[39m\u001b[39m\"\u001b[39m\u001b[39m{\u001b[39;00mcheckpoint_path\u001b[39m}\u001b[39;00m\u001b[39m/\u001b[39m\u001b[39m{\u001b[39;00m\u001b[39mself\u001b[39m\u001b[39m.\u001b[39mpair\u001b[39m}\u001b[39;00m\u001b[39m_\u001b[39m\u001b[39m{\u001b[39;00m\u001b[39mself\u001b[39m\u001b[39m.\u001b[39mfreq\u001b[39m}\u001b[39;00m\u001b[39m.pkl\u001b[39m\u001b[39m\"\u001b[39m, \u001b[39m\"\u001b[39m\u001b[39mrb\u001b[39m\u001b[39m\"\u001b[39m) \u001b[39mas\u001b[39;00m f:\n\u001b[1;32m    <a href='file:///home/ema/dev/shocks/shocks/dataset.py?line=257'>258</a>\u001b[0m         file \u001b[39m=\u001b[39m pickle\u001b[39m.\u001b[39mload(f)\n\u001b[1;32m    <a href='file:///home/ema/dev/shocks/shocks/dataset.py?line=258'>259</a>\u001b[0m         \u001b[39mself\u001b[39m\u001b[39m.\u001b[39mfitted, \u001b[39mself\u001b[39m\u001b[39m.\u001b[39mshocks \u001b[39m=\u001b[39m file[\u001b[39m\"\u001b[39m\u001b[39mdata\u001b[39m\u001b[39m\"\u001b[39m], file[\u001b[39m\"\u001b[39m\u001b[39mshocks\u001b[39m\u001b[39m\"\u001b[39m]\n",
      "\u001b[0;31mAttributeError\u001b[0m: 'Dataset' object has no attribute 'freq'"
     ]
    }
   ],
   "source": [
    "from shocks.dataset import Dataset\n",
    "import pandas as pd\n",
    "import matplotlib.pyplot as plt\n",
    "\n",
    "pd.options.mode.chained_assignment = None  # default='warn'\n",
    "plt.rcParams[\"figure.figsize\"] = (20,15)\n",
    "\n",
    "data = Dataset(pair=\"BNBBTC\")\n",
    "data.build_dataset(from_checkpoint=True)"
   ]
  },
  {
   "cell_type": "code",
   "execution_count": null,
   "metadata": {
    "collapsed": false,
    "pycharm": {
     "name": "#%%\n"
    }
   },
   "outputs": [],
   "source": []
  },
  {
   "cell_type": "markdown",
   "metadata": {},
   "source": []
  },
  {
   "cell_type": "code",
   "execution_count": 35,
   "metadata": {
    "collapsed": false,
    "pycharm": {
     "name": "#%%\n"
    }
   },
   "outputs": [
    {
     "data": {
      "text/plain": [
       "(25567, 4368)"
      ]
     },
     "execution_count": 35,
     "metadata": {},
     "output_type": "execute_result"
    }
   ],
   "source": [
    "len(data.shocks), len(data.data)"
   ]
  },
  {
   "cell_type": "code",
   "execution_count": 8,
   "metadata": {},
   "outputs": [
    {
     "name": "stdout",
     "output_type": "stream",
     "text": [
      "shocks detected. Time:  0.16661381721496582\n",
      "Data fitted. Time:  1821.0170781612396\n"
     ]
    },
    {
     "data": {
      "application/vnd.jupyter.widget-view+json": {
       "model_id": "1c95eaf0c85a49e78c3df23f35c94e2a",
       "version_major": 2,
       "version_minor": 0
      },
      "text/plain": [
       "  0%|          | 0/358 [00:00<?, ?it/s]"
      ]
     },
     "metadata": {},
     "output_type": "display_data"
    },
    {
     "name": "stderr",
     "output_type": "stream",
     "text": [
      "/home/ema/dev/shocks/shocks/dataset.py:269: RuntimeWarning: divide by zero encountered in true_divide\n",
      "  }\n",
      "/home/ema/dev/shocks/shocks/dataset.py:268: RuntimeWarning: divide by zero encountered in true_divide\n",
      "  \"tot_pct_change\": lambda x: 100 * (x[:, -1] - x[:, 0]) / x[:, 0],\n",
      "/home/ema/dev/shocks/shocks/dataset.py:268: RuntimeWarning: invalid value encountered in true_divide\n",
      "  \"tot_pct_change\": lambda x: 100 * (x[:, -1] - x[:, 0]) / x[:, 0],\n",
      "/home/ema/dev/shocks/.venv/lib/python3.10/site-packages/numpy/core/_methods.py:232: RuntimeWarning: invalid value encountered in subtract\n",
      "  x = asanyarray(arr - arrmean)\n"
     ]
    },
    {
     "name": "stdout",
     "output_type": "stream",
     "text": [
      "Shocks processed. Time:  1.2947778701782227\n"
     ]
    },
    {
     "data": {
      "application/vnd.jupyter.widget-view+json": {
       "model_id": "309385250dd94786ad48dfe0e133d081",
       "version_major": 2,
       "version_minor": 0
      },
      "text/plain": [
       "  0%|          | 0/17900 [00:00<?, ?it/s]"
      ]
     },
     "metadata": {},
     "output_type": "display_data"
    },
    {
     "name": "stderr",
     "output_type": "stream",
     "text": [
      "/home/ema/dev/shocks/shocks/dataset.py:269: RuntimeWarning: invalid value encountered in true_divide\n",
      "  }\n",
      "/home/ema/dev/shocks/.venv/lib/python3.10/site-packages/numpy/core/_methods.py:179: RuntimeWarning: invalid value encountered in reduce\n",
      "  ret = umr_sum(arr, axis, dtype, out, keepdims, where=where)\n",
      "/home/ema/dev/shocks/.venv/lib/python3.10/site-packages/numpy/core/_methods.py:212: RuntimeWarning: invalid value encountered in reduce\n",
      "  arrmean = umr_sum(arr, axis, dtype, keepdims=True, where=where)\n"
     ]
    },
    {
     "name": "stdout",
     "output_type": "stream",
     "text": [
      "Non shocks processed. Time:  20.739856004714966\n",
      "AVAXBTC has been processed succesfully\n",
      "CPU times: user 1h 19min 27s, sys: 1min 17s, total: 1h 20min 44s\n",
      "Wall time: 30min 48s\n"
     ]
    }
   ],
   "source": [
    "%%time\n",
    "shock_features = data.build_dataset()\n",
    "# 30 it/sec\n"
   ]
  },
  {
   "cell_type": "code",
   "execution_count": 6,
   "metadata": {},
   "outputs": [],
   "source": [
    "data.find_shocks(start_date=\"2021-10\", end_date=\"2022-03\", plot=False, std_from_mean=3.5)\n",
    "# data.fit(window=250, start_date=\"2021-10-01\", end_date=\"2021-11-3\")\n",
    "# data.plot_fit(data.fitted, data.shocks)"
   ]
  },
  {
   "cell_type": "code",
   "execution_count": 12,
   "metadata": {
    "collapsed": false,
    "pycharm": {
     "name": "#%%\n"
    }
   },
   "outputs": [
    {
     "data": {
      "text/plain": [
       "1.4194139194139195"
      ]
     },
     "execution_count": 12,
     "metadata": {},
     "output_type": "execute_result"
    }
   ],
   "source": [
    "100 * len(data.shocks)/len(data.data)"
   ]
  },
  {
   "cell_type": "code",
   "execution_count": null,
   "metadata": {
    "collapsed": false,
    "pycharm": {
     "name": "#%%\n"
    }
   },
   "outputs": [],
   "source": []
  },
  {
   "cell_type": "code",
   "execution_count": 3,
   "metadata": {
    "collapsed": false,
    "pycharm": {
     "name": "#%%\n"
    }
   },
   "outputs": [],
   "source": [
    "from sklearn.ensemble import RandomForestClassifier\n",
    "from sklearn.model_selection import train_test_split\n",
    "from sklearn.metrics import classification_report\n",
    "\n",
    "import pickle\n",
    "with open('/home/ema/dev/shocks/data/processed/AVAXBTC_1h.pkl', 'rb') as f:\n",
    "    d = pickle.load(f)\n",
    "\n",
    "for el in d['features']:\n",
    "     direction = el['direction']\n",
    "     el['direction'] = 1 if direction == -1 else direction\n",
    "\n",
    "df = pd.DataFrame.from_dict(d['features'])\n",
    "cols = [col for col in df.columns if col != 'direction']\n",
    "labels = df['direction'].tolist()\n",
    "X_train, X_test, y_train, y_test = train_test_split(df[cols], labels, test_size=0.5, random_state=42, stratify=labels)"
   ]
  },
  {
   "cell_type": "code",
   "execution_count": 5,
   "metadata": {
    "collapsed": false,
    "pycharm": {
     "name": "#%%\n"
    }
   },
   "outputs": [
    {
     "name": "stdout",
     "output_type": "stream",
     "text": [
      "              precision    recall  f1-score   support\n",
      "\n",
      "           0       1.00      1.00      1.00       775\n",
      "           1       1.00      1.00      1.00        15\n",
      "\n",
      "    accuracy                           1.00       790\n",
      "   macro avg       1.00      1.00      1.00       790\n",
      "weighted avg       1.00      1.00      1.00       790\n",
      "\n"
     ]
    }
   ],
   "source": [
    "class_weights = {\n",
    "   # -1: (len([el for el in labels if el == -1]) / len(labels)),\n",
    "    0: (len([el for el in labels if el == 0]) / len(labels)),\n",
    "    1: (len([el for el in labels if el == 1]) / len(labels)),\n",
    "}\n",
    "\n",
    "model = RandomForestClassifier(class_weight=class_weights)\n",
    "model.fit(X_train, y_train)\n",
    "preds = model.predict(X_test)\n",
    "print(classification_report(y_test, preds, target_names=['0', '1']))"
   ]
  },
  {
   "cell_type": "code",
   "execution_count": null,
   "metadata": {
    "collapsed": false,
    "pycharm": {
     "name": "#%%\n"
    }
   },
   "outputs": [],
   "source": []
  },
  {
   "cell_type": "markdown",
   "metadata": {},
   "source": [
    "# Lobster"
   ]
  },
  {
   "cell_type": "code",
   "execution_count": null,
   "metadata": {},
   "outputs": [],
   "source": [
    "from shocks import from_root\n",
    "from shocks.lobster_utils.lobster_util import *\n",
    "from shocks.lobster_utils.config import *\n",
    "\n",
    "fname = from_root(*\"data lobster _data_dwn_48_332__GME_2021-11-01_2022-04-30_10.7z\".split(\" \"))\n",
    "\n",
    "ohlc = ohlc_df_from_7z(\n",
    "    fname,\n",
    "    first_date=\"2021-11-01\", \n",
    "    last_date=\"2022-12-01\", \n",
    "    granularity=Granularity.Min1\n",
    ")"
   ]
  },
  {
   "cell_type": "code",
   "execution_count": null,
   "metadata": {},
   "outputs": [],
   "source": [
    "class LobsterReader:\n",
    "    def __init__"
   ]
  }
 ],
 "metadata": {
  "interpreter": {
   "hash": "7398fef3eacf58b3cd6788b8ecfb7f4bf5a538c0cb8687acd308282992e7f955"
  },
  "kernelspec": {
   "display_name": "Python 3.10.3 ('.venv': poetry)",
   "language": "python",
   "name": "python3"
  },
  "language_info": {
   "codemirror_mode": {
    "name": "ipython",
    "version": 3
   },
   "file_extension": ".py",
   "mimetype": "text/x-python",
   "name": "python",
   "nbconvert_exporter": "python",
   "pygments_lexer": "ipython3",
   "version": "3.10.3"
  },
  "orig_nbformat": 4
 },
 "nbformat": 4,
 "nbformat_minor": 2
}
