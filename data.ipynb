{
 "cells": [
  {
   "cell_type": "code",
   "execution_count": 3,
   "metadata": {},
   "outputs": [],
   "source": [
    "from bs4 import BeautifulSoup\n",
    "import requests\n",
    "import os\n",
    "# https://data.binance.vision/?prefix=data/spot/monthly/klines/\n",
    "# https://github.com/binance/binance-public-data"
   ]
  },
  {
   "cell_type": "code",
   "execution_count": 5,
   "metadata": {},
   "outputs": [],
   "source": [
    "url = \"https://data.binance.vision/?prefix=data/spot/monthly/klines/1INCHBTC/1m/\"\n",
    "\n",
    "with open(\"/home/ema/dev/shocks/shocks/data/binance_pairs.html\") as file:\n",
    "    soup = BeautifulSoup(file)"
   ]
  },
  {
   "cell_type": "code",
   "execution_count": 11,
   "metadata": {},
   "outputs": [],
   "source": [
    "pairs = []\n",
    "for pair in soup.find_all(\"a\")[1: ]:\n",
    "    pairs.append(pair.text.replace(\"/\", \"\"))\n",
    "\n",
    "def download_data(data_path, pair, months, freq=\"1m\"):\n",
    "    for month in months:\n",
    "        pair_dir = os.path.join(DATA_PATH, pair)\n",
    "        if not os.path.isdir(pair_dir):\n",
    "            os.mkdir(pair_dir)\n",
    "\n",
    "        url = f\"https://data.binance.vision/data/spot/monthly/klines/{pair}/{freq}/{pair}-{freq}-{month}.zip\"\n",
    "        os.system(f\" cd {pair_dir} && wget {url}\")\n",
    " "
   ]
  },
  {
   "cell_type": "code",
   "execution_count": null,
   "metadata": {},
   "outputs": [],
   "source": [
    "months = [\n",
    "    \"2021-10\",\n",
    "    \"2021-11\",\n",
    "    \"2021-12\",\n",
    "    \"2022-01\",\n",
    "    \"2022-02\",\n",
    "    \"2022-03\",\n",
    "]\n",
    "\n",
    "freq = \"1m\"\n",
    "DATA_PATH =\"/home/ema/dev/shocks/shocks/data/binance/\"\n",
    "selected_pairs = (\"BTCUSDT\", \"BNBBTC\", \"AVAXBTC\", \"JOEBTC\", \"AXSTRY\", \"CAKEBRL\")\n",
    "\n",
    "\n",
    "for pair in selected_pairs:\n",
    "    download_data(data_path=DATA_PATH, pair=pair, months=months, freq=\"1m\")"
   ]
  }
 ],
 "metadata": {
  "interpreter": {
   "hash": "7398fef3eacf58b3cd6788b8ecfb7f4bf5a538c0cb8687acd308282992e7f955"
  },
  "kernelspec": {
   "display_name": "Python 3.10.3 ('.venv': poetry)",
   "language": "python",
   "name": "python3"
  },
  "language_info": {
   "codemirror_mode": {
    "name": "ipython",
    "version": 3
   },
   "file_extension": ".py",
   "mimetype": "text/x-python",
   "name": "python",
   "nbconvert_exporter": "python",
   "pygments_lexer": "ipython3",
   "version": "3.10.3"
  },
  "orig_nbformat": 4
 },
 "nbformat": 4,
 "nbformat_minor": 2
}