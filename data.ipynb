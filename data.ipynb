{
 "cells": [
  {
   "cell_type": "code",
   "execution_count": 1,
   "metadata": {},
   "outputs": [],
   "source": [
    "from bs4 import BeautifulSoup\n",
    "import requests\n",
    "import os\n",
    "# https://data.binance.vision/?prefix=data/spot/monthly/klines/\n",
    "# https://github.com/binance/binance-public-data"
   ]
  },
  {
   "cell_type": "code",
   "execution_count": 6,
   "metadata": {},
   "outputs": [],
   "source": [
    "url = \"https://data.binance.vision/?prefix=data/spot/monthly/klines/1INCHBTC/1m/\"\n",
    "\n",
    "with open(\"/home/ema/dev/shocks/data/binance_pairs.html\") as file:\n",
    "    soup = BeautifulSoup(file)"
   ]
  },
  {
   "cell_type": "code",
   "execution_count": 7,
   "metadata": {},
   "outputs": [],
   "source": [
    "pairs = []\n",
    "for pair in soup.find_all(\"a\")[1: ]:\n",
    "    pairs.append(pair.text.replace(\"/\", \"\"))\n",
    "\n",
    "def download_data(data_path, pair, months, freq=\"1m\"):\n",
    "    for month in months:\n",
    "        pair_dir = os.path.join(DATA_PATH, pair)\n",
    "        if not os.path.isdir(pair_dir):\n",
    "            os.mkdir(pair_dir)\n",
    "\n",
    "        url = f\"https://data.binance.vision/data/spot/monthly/klines/{pair}/{freq}/{pair}-{freq}-{month}.zip\"\n",
    "        os.system(f\" cd {pair_dir} && wget {url}\")\n",
    " "
   ]
  },
  {
   "cell_type": "code",
   "execution_count": null,
   "metadata": {
    "pycharm": {
     "is_executing": true
    }
   },
   "outputs": [],
   "source": [
    "months = [\n",
    "    \"2021-10\",\n",
    "    \"2021-11\",\n",
    "    \"2021-12\",\n",
    "    \"2022-01\",\n",
    "    \"2022-02\",\n",
    "    \"2022-03\",\n",
    "]\n",
    "\n",
    "freq = \"1m\"\n",
    "DATA_PATH =\"/home/ema/dev/shocks/shocks/data/binance/\"\n",
    "selected_pairs = (\"BTCUSDT\", \"BNBBTC\", \"AVAXBTC\", \"JOEBTC\", \"AXSTRY\", \"CAKEBRL\")\n",
    "\n",
    "\n",
    "for pair in selected_pairs:\n",
    "    download_data(data_path=DATA_PATH, pair=pair, months=months, freq=\"1m\")"
   ]
  },
  {
   "cell_type": "code",
   "execution_count": 2,
   "metadata": {
    "collapsed": false,
    "pycharm": {
     "name": "#%%\n"
    }
   },
   "outputs": [],
   "source": [
    "%load_ext autoreload\n",
    "%autoreload 2"
   ]
  },
  {
   "cell_type": "code",
   "execution_count": 7,
   "metadata": {},
   "outputs": [],
   "source": [
    "from shocks.dataset import Dataset\n",
    "import pandas as pd\n",
    "import matplotlib.pyplot as plt\n",
    "\n",
    "pd.options.mode.chained_assignment = None  # default='warn'\n",
    "plt.rcParams[\"figure.figsize\"] = (20,15)\n",
    "\n",
    "data = Dataset(pair=\"AVAXBTC\")\n",
    "data.preprocess(freq=\"5m\")\n",
    "#data.fit(window=250)"
   ]
  },
  {
   "cell_type": "code",
   "execution_count": 73,
   "outputs": [],
   "source": [
    "fit = data.fitted.copy()"
   ],
   "metadata": {
    "collapsed": false,
    "pycharm": {
     "name": "#%%\n"
    }
   }
  },
  {
   "cell_type": "code",
   "execution_count": 35,
   "outputs": [
    {
     "data": {
      "text/plain": "(25567, 4368)"
     },
     "execution_count": 35,
     "metadata": {},
     "output_type": "execute_result"
    }
   ],
   "source": [
    "len(data.shocks), len(data.data)"
   ],
   "metadata": {
    "collapsed": false,
    "pycharm": {
     "name": "#%%\n"
    }
   }
  },
  {
   "cell_type": "code",
   "execution_count": 8,
   "metadata": {},
   "outputs": [
    {
     "name": "stdout",
     "output_type": "stream",
     "text": [
      "shocks detected. Time:  0.16661381721496582\n",
      "Data fitted. Time:  1821.0170781612396\n"
     ]
    },
    {
     "data": {
      "text/plain": "  0%|          | 0/358 [00:00<?, ?it/s]",
      "application/vnd.jupyter.widget-view+json": {
       "version_major": 2,
       "version_minor": 0,
       "model_id": "1c95eaf0c85a49e78c3df23f35c94e2a"
      }
     },
     "metadata": {},
     "output_type": "display_data"
    },
    {
     "name": "stderr",
     "output_type": "stream",
     "text": [
      "/home/ema/dev/shocks/shocks/dataset.py:269: RuntimeWarning: divide by zero encountered in true_divide\n",
      "  }\n",
      "/home/ema/dev/shocks/shocks/dataset.py:268: RuntimeWarning: divide by zero encountered in true_divide\n",
      "  \"tot_pct_change\": lambda x: 100 * (x[:, -1] - x[:, 0]) / x[:, 0],\n",
      "/home/ema/dev/shocks/shocks/dataset.py:268: RuntimeWarning: invalid value encountered in true_divide\n",
      "  \"tot_pct_change\": lambda x: 100 * (x[:, -1] - x[:, 0]) / x[:, 0],\n",
      "/home/ema/dev/shocks/.venv/lib/python3.10/site-packages/numpy/core/_methods.py:232: RuntimeWarning: invalid value encountered in subtract\n",
      "  x = asanyarray(arr - arrmean)\n"
     ]
    },
    {
     "name": "stdout",
     "output_type": "stream",
     "text": [
      "Shocks processed. Time:  1.2947778701782227\n"
     ]
    },
    {
     "data": {
      "text/plain": "  0%|          | 0/17900 [00:00<?, ?it/s]",
      "application/vnd.jupyter.widget-view+json": {
       "version_major": 2,
       "version_minor": 0,
       "model_id": "309385250dd94786ad48dfe0e133d081"
      }
     },
     "metadata": {},
     "output_type": "display_data"
    },
    {
     "name": "stderr",
     "output_type": "stream",
     "text": [
      "/home/ema/dev/shocks/shocks/dataset.py:269: RuntimeWarning: invalid value encountered in true_divide\n",
      "  }\n",
      "/home/ema/dev/shocks/.venv/lib/python3.10/site-packages/numpy/core/_methods.py:179: RuntimeWarning: invalid value encountered in reduce\n",
      "  ret = umr_sum(arr, axis, dtype, out, keepdims, where=where)\n",
      "/home/ema/dev/shocks/.venv/lib/python3.10/site-packages/numpy/core/_methods.py:212: RuntimeWarning: invalid value encountered in reduce\n",
      "  arrmean = umr_sum(arr, axis, dtype, keepdims=True, where=where)\n"
     ]
    },
    {
     "name": "stdout",
     "output_type": "stream",
     "text": [
      "Non shocks processed. Time:  20.739856004714966\n",
      "AVAXBTC has been processed succesfully\n",
      "CPU times: user 1h 19min 27s, sys: 1min 17s, total: 1h 20min 44s\n",
      "Wall time: 30min 48s\n"
     ]
    }
   ],
   "source": [
    "%%time\n",
    "shock_features = data.build_dataset()\n",
    "# 30 it/sec\n"
   ]
  },
  {
   "cell_type": "code",
   "execution_count": 6,
   "metadata": {},
   "outputs": [],
   "source": [
    "data.find_shocks(start_date=\"2021-10\", end_date=\"2022-03\", plot=False, std_from_mean=3.5)\n",
    "# data.fit(window=250, start_date=\"2021-10-01\", end_date=\"2021-11-3\")\n",
    "# data.plot_fit(data.fitted, data.shocks)"
   ]
  },
  {
   "cell_type": "code",
   "execution_count": 12,
   "outputs": [
    {
     "data": {
      "text/plain": "1.4194139194139195"
     },
     "execution_count": 12,
     "metadata": {},
     "output_type": "execute_result"
    }
   ],
   "source": [
    "100 * len(data.shocks)/len(data.data)"
   ],
   "metadata": {
    "collapsed": false,
    "pycharm": {
     "name": "#%%\n"
    }
   }
  },
  {
   "cell_type": "code",
   "execution_count": null,
   "outputs": [],
   "source": [],
   "metadata": {
    "collapsed": false,
    "pycharm": {
     "name": "#%%\n"
    }
   }
  },
  {
   "cell_type": "code",
   "execution_count": 3,
   "outputs": [],
   "source": [
    "from sklearn.ensemble import RandomForestClassifier\n",
    "from sklearn.model_selection import train_test_split\n",
    "from sklearn.metrics import classification_report\n",
    "\n",
    "import pickle\n",
    "with open('/home/ema/dev/shocks/data/processed/AVAXBTC_1h.pkl', 'rb') as f:\n",
    "    d = pickle.load(f)\n",
    "\n",
    "for el in d['features']:\n",
    "     direction = el['direction']\n",
    "     el['direction'] = 1 if direction == -1 else direction\n",
    "\n",
    "df = pd.DataFrame.from_dict(d['features'])\n",
    "cols = [col for col in df.columns if col != 'direction']\n",
    "labels = df['direction'].tolist()\n",
    "X_train, X_test, y_train, y_test = train_test_split(df[cols], labels, test_size=0.5, random_state=42, stratify=labels)"
   ],
   "metadata": {
    "collapsed": false,
    "pycharm": {
     "name": "#%%\n"
    }
   }
  },
  {
   "cell_type": "code",
   "execution_count": 5,
   "outputs": [
    {
     "name": "stdout",
     "output_type": "stream",
     "text": [
      "              precision    recall  f1-score   support\n",
      "\n",
      "           0       1.00      1.00      1.00       775\n",
      "           1       1.00      1.00      1.00        15\n",
      "\n",
      "    accuracy                           1.00       790\n",
      "   macro avg       1.00      1.00      1.00       790\n",
      "weighted avg       1.00      1.00      1.00       790\n",
      "\n"
     ]
    }
   ],
   "source": [
    "class_weights = {\n",
    "   # -1: (len([el for el in labels if el == -1]) / len(labels)),\n",
    "    0: (len([el for el in labels if el == 0]) / len(labels)),\n",
    "    1: (len([el for el in labels if el == 1]) / len(labels)),\n",
    "}\n",
    "\n",
    "model = RandomForestClassifier(class_weight=class_weights)\n",
    "model.fit(X_train, y_train)\n",
    "preds = model.predict(X_test)\n",
    "print(classification_report(y_test, preds, target_names=['0', '1']))"
   ],
   "metadata": {
    "collapsed": false,
    "pycharm": {
     "name": "#%%\n"
    }
   }
  },
  {
   "cell_type": "code",
   "execution_count": 6,
   "outputs": [
    {
     "data": {
      "text/plain": "{0: 0.9810126582278481, 1: 0.0189873417721519}"
     },
     "execution_count": 6,
     "metadata": {},
     "output_type": "execute_result"
    }
   ],
   "source": [
    "class_weights"
   ],
   "metadata": {
    "collapsed": false,
    "pycharm": {
     "name": "#%%\n"
    }
   }
  }
 ],
 "metadata": {
  "interpreter": {
   "hash": "7398fef3eacf58b3cd6788b8ecfb7f4bf5a538c0cb8687acd308282992e7f955"
  },
  "kernelspec": {
   "display_name": "Python 3.10.3 ('.venv': poetry)",
   "language": "python",
   "name": "python3"
  },
  "language_info": {
   "codemirror_mode": {
    "name": "ipython",
    "version": 3
   },
   "file_extension": ".py",
   "mimetype": "text/x-python",
   "name": "python",
   "nbconvert_exporter": "python",
   "pygments_lexer": "ipython3",
   "version": "3.10.3"
  },
  "orig_nbformat": 4
 },
 "nbformat": 4,
 "nbformat_minor": 2
}